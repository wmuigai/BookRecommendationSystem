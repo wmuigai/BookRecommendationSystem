{
 "cells": [
  {
   "cell_type": "code",
   "execution_count": 25,
   "id": "70a4501f",
   "metadata": {},
   "outputs": [
    {
     "name": "stdout",
     "output_type": "stream",
     "text": [
      "Computing the cosine similarity matrix...\n",
      "Done computing similarity matrix.\n",
      "RMSE: 2.8927\n",
      "RMSE: 2.892652908822402\n",
      "MAE:  2.5098\n",
      "MAE: 2.509774606062856\n",
      "Top Recommendations for user1\n",
      "Item ID: 0, Predicted Rating: 5.06\n",
      "Item ID: 1, Predicted Rating: 5.06\n",
      "Item ID: 2, Predicted Rating: 5.06\n",
      "Item ID: 3, Predicted Rating: 5.06\n",
      "Item ID: 4, Predicted Rating: 5.06\n",
      "Item ID: 5, Predicted Rating: 5.06\n",
      "Item ID: 6, Predicted Rating: 5.06\n",
      "Item ID: 7, Predicted Rating: 5.06\n",
      "Item ID: 8, Predicted Rating: 5.06\n",
      "Item ID: 9, Predicted Rating: 5.06\n"
     ]
    }
   ],
   "source": [
    "import pandas as pd\n",
    "from surprise import Dataset, Reader, KNNBasic\n",
    "from surprise.model_selection import train_test_split\n",
    "from surprise import accuracy\n",
    "\n",
    "# Read the dataset from 'ratings.csv' into a DataFrame\n",
    "# Adjust the column names as per your dataset\n",
    "column_names = ['user_id', 'isbn', 'ratings']\n",
    "df = pd.read_csv('ratings.csv', usecols=column_names, dtype={'user_id': str, 'isbn': str, 'ratings': float}, na_values=['NA', 'N/A', 'missing'])\n",
    "\n",
    "# Drop rows with missing values\n",
    "df.dropna(subset=['user_id', 'isbn', 'ratings'], inplace=True)\n",
    "\n",
    "# Define the Reader object\n",
    "reader = Reader(rating_scale=(0, 10))\n",
    "\n",
    "# Load the dataset from the DataFrame using the appropriate columns\n",
    "data = Dataset.load_from_df(df[['user_id', 'isbn', 'ratings']], reader)\n",
    "\n",
    "# Split the data into training and test sets\n",
    "trainset, testset = train_test_split(data, test_size=0.25)\n",
    "\n",
    "# Initialize KNNBasic with appropriate parameters\n",
    "sim_options = {'name': 'cosine', 'user_based': True}  # Set user-based similarity\n",
    "algo = KNNBasic(k=40, sim_options=sim_options)\n",
    "\n",
    "# Fit the algorithm to the training data\n",
    "algo.fit(trainset)\n",
    "\n",
    "# Make predictions on the test set\n",
    "predictions = algo.test(testset)\n",
    "\n",
    "# Evaluate accuracy\n",
    "print(\"RMSE:\", accuracy.rmse(predictions))\n",
    "print(\"MAE:\", accuracy.mae(predictions))\n",
    "\n",
    "# Generate recommendations for user 'user1'\n",
    "user_id = 'user1'\n",
    "\n",
    "try:\n",
    "    # Get the inner user ID corresponding to 'user1'\n",
    "    inner_user_id = trainset.to_inner_uid(user_id)\n",
    "\n",
    "    # Get the items already rated by 'user1'\n",
    "    already_rated = set([item[0] for item in trainset.ur[inner_user_id]])\n",
    "\n",
    "    # Generate recommendations for items not yet rated by 'user1'\n",
    "    items_to_recommend = []\n",
    "    for item_id in trainset.all_items():\n",
    "        if item_id not in already_rated:\n",
    "            items_to_recommend.append((item_id, algo.predict(user_id, item_id).est))\n",
    "\n",
    "    # Sort recommendations by predicted rating\n",
    "    sorted_recommendations = sorted(items_to_recommend, key=lambda x: x[1], reverse=True)\n",
    "\n",
    "    print(\"Top Recommendations for\", user_id)\n",
    "    for item_id, rating in sorted_recommendations[:10]:\n",
    "        print(f\"Item ID: {item_id}, Predicted Rating: {rating:.2f}\")\n",
    "\n",
    "except ValueError as e:\n",
    "    print(e)  # Handle the case where 'user1' is not part of the training set\n"
   ]
  },
  {
   "cell_type": "code",
   "execution_count": null,
   "id": "19b00bcb",
   "metadata": {},
   "outputs": [],
   "source": []
  }
 ],
 "metadata": {
  "kernelspec": {
   "display_name": "Python 3 (ipykernel)",
   "language": "python",
   "name": "python3"
  },
  "language_info": {
   "codemirror_mode": {
    "name": "ipython",
    "version": 3
   },
   "file_extension": ".py",
   "mimetype": "text/x-python",
   "name": "python",
   "nbconvert_exporter": "python",
   "pygments_lexer": "ipython3",
   "version": "3.11.5"
  }
 },
 "nbformat": 4,
 "nbformat_minor": 5
}
